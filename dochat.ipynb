{
 "cells": [
  {
   "cell_type": "code",
   "execution_count": 1,
   "metadata": {},
   "outputs": [],
   "source": [
    "import os\n",
    "import openai\n",
    "import sys\n",
    "sys.path.append('../..')\n",
    "\n",
    "from dotenv import load_dotenv, find_dotenv\n",
    "_ = load_dotenv(find_dotenv()) # read local .env file\n",
    "\n",
    "load_dotenv()\n",
    "\n",
    "openai.api_key  = os.getenv(\"OPENAI_API_KEY\")"
   ]
  },
  {
   "cell_type": "code",
   "execution_count": 6,
   "metadata": {},
   "outputs": [],
   "source": [
    "from langchain.document_loaders import PyPDFLoader\n",
    "loader = PyPDFLoader(\"docs/payment.pdf\")\n",
    "pages = loader.load()"
   ]
  },
  {
   "cell_type": "code",
   "execution_count": null,
   "metadata": {},
   "outputs": [],
   "source": [
    "len(pages)"
   ]
  },
  {
   "cell_type": "code",
   "execution_count": null,
   "metadata": {},
   "outputs": [],
   "source": [
    "page = pages[0]\n",
    "print(page.page_content[0:100])"
   ]
  },
  {
   "cell_type": "code",
   "execution_count": 5,
   "metadata": {},
   "outputs": [
    {
     "data": {
      "text/plain": [
       "{'source': './payment.pdf', 'page': 0}"
      ]
     },
     "execution_count": 5,
     "metadata": {},
     "output_type": "execute_result"
    }
   ],
   "source": [
    "page.metadata"
   ]
  },
  {
   "cell_type": "code",
   "execution_count": 8,
   "metadata": {},
   "outputs": [],
   "source": [
    "## split based on text\n",
    "from langchain.text_splitter import RecursiveCharacterTextSplitter, CharacterTextSplitter"
   ]
  },
  {
   "cell_type": "code",
   "execution_count": 62,
   "metadata": {},
   "outputs": [],
   "source": [
    "text_splitter = RecursiveCharacterTextSplitter(\n",
    "    chunk_size=20,\n",
    "    chunk_overlap=0, \n",
    "    separators=[\"\\n\\n\", \"\\n\", \" \", \"\"]\n",
    ")"
   ]
  },
  {
   "cell_type": "code",
   "execution_count": 65,
   "metadata": {},
   "outputs": [],
   "source": [
    "docs = text_splitter.split_documents(pages)\n"
   ]
  },
  {
   "cell_type": "code",
   "execution_count": 57,
   "metadata": {},
   "outputs": [
    {
     "data": {
      "text/plain": [
       "34"
      ]
     },
     "execution_count": 57,
     "metadata": {},
     "output_type": "execute_result"
    }
   ],
   "source": [
    "len(docs)"
   ]
  },
  {
   "cell_type": "code",
   "execution_count": 66,
   "metadata": {},
   "outputs": [
    {
     "name": "stdout",
     "output_type": "stream",
     "text": [
      "[Document(page_content='Trillium Montessori', metadata={'source': 'docs/payment.pdf', 'page': 0}), Document(page_content='- Leander', metadata={'source': 'docs/payment.pdf', 'page': 0}), Document(page_content='03/06/2024', metadata={'source': 'docs/payment.pdf', 'page': 0}), Document(page_content='This invoice is', metadata={'source': 'docs/payment.pdf', 'page': 0}), Document(page_content='paid', metadata={'source': 'docs/payment.pdf', 'page': 0}), Document(page_content='Invoice #75167153', metadata={'source': 'docs/payment.pdf', 'page': 0}), Document(page_content='Trillium Montessori', metadata={'source': 'docs/payment.pdf', 'page': 0}), Document(page_content='- Leander', metadata={'source': 'docs/payment.pdf', 'page': 0}), Document(page_content='1699 US183 North', metadata={'source': 'docs/payment.pdf', 'page': 0}), Document(page_content='Leander, TX, 78641', metadata={'source': 'docs/payment.pdf', 'page': 0}), Document(page_content='EIN#:', metadata={'source': 'docs/payment.pdf', 'page': 0}), Document(page_content='462166700Adhvaith', metadata={'source': 'docs/payment.pdf', 'page': 0}), Document(page_content='Rajesh', metadata={'source': 'docs/payment.pdf', 'page': 0}), Document(page_content='Invoice date', metadata={'source': 'docs/payment.pdf', 'page': 0}), Document(page_content='9/1/2023', metadata={'source': 'docs/payment.pdf', 'page': 0}), Document(page_content='Dates of service', metadata={'source': 'docs/payment.pdf', 'page': 0}), Document(page_content='9/1/2023 -', metadata={'source': 'docs/payment.pdf', 'page': 0}), Document(page_content='9/30/2023', metadata={'source': 'docs/payment.pdf', 'page': 0}), Document(page_content='Assigned payer', metadata={'source': 'docs/payment.pdf', 'page': 0}), Document(page_content='Rajesh Govindarajan', metadata={'source': 'docs/payment.pdf', 'page': 0}), Document(page_content='Due date 9/2/2023', metadata={'source': 'docs/payment.pdf', 'page': 0}), Document(page_content='Current amount due', metadata={'source': 'docs/payment.pdf', 'page': 0}), Document(page_content='$0.00', metadata={'source': 'docs/payment.pdf', 'page': 0}), Document(page_content='Charges & payments', metadata={'source': 'docs/payment.pdf', 'page': 0}), Document(page_content='Type Description', metadata={'source': 'docs/payment.pdf', 'page': 0}), Document(page_content='Notes Amount', metadata={'source': 'docs/payment.pdf', 'page': 0}), Document(page_content='Charge: Tuition', metadata={'source': 'docs/payment.pdf', 'page': 0}), Document(page_content='Toddler part time', metadata={'source': 'docs/payment.pdf', 'page': 0}), Document(page_content='$975.00', metadata={'source': 'docs/payment.pdf', 'page': 0}), Document(page_content='Payment: JPMORGAN', metadata={'source': 'docs/payment.pdf', 'page': 0}), Document(page_content='CHASE', metadata={'source': 'docs/payment.pdf', 'page': 0}), Document(page_content='BANK, NA 7208', metadata={'source': 'docs/payment.pdf', 'page': 0}), Document(page_content='Processing fee:', metadata={'source': 'docs/payment.pdf', 'page': 0}), Document(page_content='$0.60', metadata={'source': 'docs/payment.pdf', 'page': 0}), Document(page_content='(on total payment', metadata={'source': 'docs/payment.pdf', 'page': 0}), Document(page_content='of $975.00)Rajesh', metadata={'source': 'docs/payment.pdf', 'page': 0}), Document(page_content='Govindarajan', metadata={'source': 'docs/payment.pdf', 'page': 0}), Document(page_content='on 9/6/2023-$975.00', metadata={'source': 'docs/payment.pdf', 'page': 0}), Document(page_content='Total paid amount', metadata={'source': 'docs/payment.pdf', 'page': 0}), Document(page_content='Current amount', metadata={'source': 'docs/payment.pdf', 'page': 0}), Document(page_content='due$975.00', metadata={'source': 'docs/payment.pdf', 'page': 0}), Document(page_content='$0.00\\nNotes', metadata={'source': 'docs/payment.pdf', 'page': 0})]\n"
     ]
    }
   ],
   "source": [
    "print(docs)"
   ]
  }
 ],
 "metadata": {
  "kernelspec": {
   "display_name": "Python 3",
   "language": "python",
   "name": "python3"
  },
  "language_info": {
   "codemirror_mode": {
    "name": "ipython",
    "version": 3
   },
   "file_extension": ".py",
   "mimetype": "text/x-python",
   "name": "python",
   "nbconvert_exporter": "python",
   "pygments_lexer": "ipython3",
   "version": "3.12.0"
  }
 },
 "nbformat": 4,
 "nbformat_minor": 2
}
