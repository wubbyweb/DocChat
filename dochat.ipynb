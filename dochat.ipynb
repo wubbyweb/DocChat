{
 "cells": [
  {
   "cell_type": "code",
   "execution_count": 2,
   "metadata": {},
   "outputs": [],
   "source": [
    "import os\n",
    "import openai\n",
    "import sys\n",
    "sys.path.append('../..')\n",
    "\n",
    "from dotenv import load_dotenv, find_dotenv\n",
    "_ = load_dotenv(find_dotenv()) # read local .env file\n",
    "\n",
    "load_dotenv()\n",
    "\n",
    "openai.api_key  = os.getenv(\"OPENAI_API_KEY\")"
   ]
  },
  {
   "cell_type": "code",
   "execution_count": 6,
   "metadata": {},
   "outputs": [],
   "source": [
    "from langchain.document_loaders import PyPDFLoader\n",
    "loader = PyPDFLoader(\"docs/payment.pdf\")\n",
    "pages = loader.load()"
   ]
  },
  {
   "cell_type": "code",
   "execution_count": 3,
   "metadata": {},
   "outputs": [
    {
     "ename": "AttributeError",
     "evalue": "module 'sqlalchemy' has no attribute 'Select'",
     "output_type": "error",
     "traceback": [
      "\u001b[1;31m---------------------------------------------------------------------------\u001b[0m",
      "\u001b[1;31mAttributeError\u001b[0m                            Traceback (most recent call last)",
      "Cell \u001b[1;32mIn[3], line 1\u001b[0m\n\u001b[1;32m----> 1\u001b[0m \u001b[38;5;28;01mfrom\u001b[39;00m \u001b[38;5;21;01mlangchain_community\u001b[39;00m\u001b[38;5;21;01m.\u001b[39;00m\u001b[38;5;21;01mdocument_loaders\u001b[39;00m \u001b[38;5;28;01mimport\u001b[39;00m TextLoader\n\u001b[0;32m      2\u001b[0m loader \u001b[38;5;241m=\u001b[39m TextLoader(\u001b[38;5;124m\"\u001b[39m\u001b[38;5;124mdocs/_chat.txt\u001b[39m\u001b[38;5;124m\"\u001b[39m,encoding\u001b[38;5;241m=\u001b[39m\u001b[38;5;124m'\u001b[39m\u001b[38;5;124mutf8\u001b[39m\u001b[38;5;124m'\u001b[39m)\n\u001b[0;32m      3\u001b[0m pages \u001b[38;5;241m=\u001b[39m loader\u001b[38;5;241m.\u001b[39mload()\n",
      "File \u001b[1;32mc:\\Users\\Raj\\anaconda3\\Lib\\site-packages\\langchain_community\\document_loaders\\__init__.py:190\u001b[0m\n\u001b[0;32m    188\u001b[0m \u001b[38;5;28;01mfrom\u001b[39;00m \u001b[38;5;21;01mlangchain_community\u001b[39;00m\u001b[38;5;21;01m.\u001b[39;00m\u001b[38;5;21;01mdocument_loaders\u001b[39;00m\u001b[38;5;21;01m.\u001b[39;00m\u001b[38;5;21;01msnowflake_loader\u001b[39;00m \u001b[38;5;28;01mimport\u001b[39;00m SnowflakeLoader\n\u001b[0;32m    189\u001b[0m \u001b[38;5;28;01mfrom\u001b[39;00m \u001b[38;5;21;01mlangchain_community\u001b[39;00m\u001b[38;5;21;01m.\u001b[39;00m\u001b[38;5;21;01mdocument_loaders\u001b[39;00m\u001b[38;5;21;01m.\u001b[39;00m\u001b[38;5;21;01mspreedly\u001b[39;00m \u001b[38;5;28;01mimport\u001b[39;00m SpreedlyLoader\n\u001b[1;32m--> 190\u001b[0m \u001b[38;5;28;01mfrom\u001b[39;00m \u001b[38;5;21;01mlangchain_community\u001b[39;00m\u001b[38;5;21;01m.\u001b[39;00m\u001b[38;5;21;01mdocument_loaders\u001b[39;00m\u001b[38;5;21;01m.\u001b[39;00m\u001b[38;5;21;01msql_database\u001b[39;00m \u001b[38;5;28;01mimport\u001b[39;00m SQLDatabaseLoader\n\u001b[0;32m    191\u001b[0m \u001b[38;5;28;01mfrom\u001b[39;00m \u001b[38;5;21;01mlangchain_community\u001b[39;00m\u001b[38;5;21;01m.\u001b[39;00m\u001b[38;5;21;01mdocument_loaders\u001b[39;00m\u001b[38;5;21;01m.\u001b[39;00m\u001b[38;5;21;01msrt\u001b[39;00m \u001b[38;5;28;01mimport\u001b[39;00m SRTLoader\n\u001b[0;32m    192\u001b[0m \u001b[38;5;28;01mfrom\u001b[39;00m \u001b[38;5;21;01mlangchain_community\u001b[39;00m\u001b[38;5;21;01m.\u001b[39;00m\u001b[38;5;21;01mdocument_loaders\u001b[39;00m\u001b[38;5;21;01m.\u001b[39;00m\u001b[38;5;21;01mstripe\u001b[39;00m \u001b[38;5;28;01mimport\u001b[39;00m StripeLoader\n",
      "File \u001b[1;32mc:\\Users\\Raj\\anaconda3\\Lib\\site-packages\\langchain_community\\document_loaders\\sql_database.py:10\u001b[0m\n\u001b[0;32m      6\u001b[0m \u001b[38;5;28;01mfrom\u001b[39;00m \u001b[38;5;21;01mlangchain_community\u001b[39;00m\u001b[38;5;21;01m.\u001b[39;00m\u001b[38;5;21;01mdocument_loaders\u001b[39;00m\u001b[38;5;21;01m.\u001b[39;00m\u001b[38;5;21;01mbase\u001b[39;00m \u001b[38;5;28;01mimport\u001b[39;00m BaseLoader\n\u001b[0;32m      7\u001b[0m \u001b[38;5;28;01mfrom\u001b[39;00m \u001b[38;5;21;01mlangchain_community\u001b[39;00m\u001b[38;5;21;01m.\u001b[39;00m\u001b[38;5;21;01mutilities\u001b[39;00m\u001b[38;5;21;01m.\u001b[39;00m\u001b[38;5;21;01msql_database\u001b[39;00m \u001b[38;5;28;01mimport\u001b[39;00m SQLDatabase\n\u001b[1;32m---> 10\u001b[0m \u001b[38;5;28;01mclass\u001b[39;00m \u001b[38;5;21;01mSQLDatabaseLoader\u001b[39;00m(BaseLoader):\n\u001b[0;32m     11\u001b[0m \u001b[38;5;250m    \u001b[39m\u001b[38;5;124;03m\"\"\"\u001b[39;00m\n\u001b[0;32m     12\u001b[0m \u001b[38;5;124;03m    Load documents by querying database tables supported by SQLAlchemy.\u001b[39;00m\n\u001b[0;32m     13\u001b[0m \n\u001b[1;32m   (...)\u001b[0m\n\u001b[0;32m     17\u001b[0m \u001b[38;5;124;03m    Each document represents one row of the result.\u001b[39;00m\n\u001b[0;32m     18\u001b[0m \u001b[38;5;124;03m    \"\"\"\u001b[39;00m\n\u001b[0;32m     20\u001b[0m     \u001b[38;5;28;01mdef\u001b[39;00m \u001b[38;5;21m__init__\u001b[39m(\n\u001b[0;32m     21\u001b[0m         \u001b[38;5;28mself\u001b[39m,\n\u001b[0;32m     22\u001b[0m         query: Union[\u001b[38;5;28mstr\u001b[39m, sa\u001b[38;5;241m.\u001b[39mSelect],\n\u001b[1;32m   (...)\u001b[0m\n\u001b[0;32m     30\u001b[0m         include_query_into_metadata: \u001b[38;5;28mbool\u001b[39m \u001b[38;5;241m=\u001b[39m \u001b[38;5;28;01mFalse\u001b[39;00m,\n\u001b[0;32m     31\u001b[0m     ):\n",
      "File \u001b[1;32mc:\\Users\\Raj\\anaconda3\\Lib\\site-packages\\langchain_community\\document_loaders\\sql_database.py:22\u001b[0m, in \u001b[0;36mSQLDatabaseLoader\u001b[1;34m()\u001b[0m\n\u001b[0;32m     10\u001b[0m \u001b[38;5;28;01mclass\u001b[39;00m \u001b[38;5;21;01mSQLDatabaseLoader\u001b[39;00m(BaseLoader):\n\u001b[0;32m     11\u001b[0m \u001b[38;5;250m    \u001b[39m\u001b[38;5;124;03m\"\"\"\u001b[39;00m\n\u001b[0;32m     12\u001b[0m \u001b[38;5;124;03m    Load documents by querying database tables supported by SQLAlchemy.\u001b[39;00m\n\u001b[0;32m     13\u001b[0m \n\u001b[1;32m   (...)\u001b[0m\n\u001b[0;32m     17\u001b[0m \u001b[38;5;124;03m    Each document represents one row of the result.\u001b[39;00m\n\u001b[0;32m     18\u001b[0m \u001b[38;5;124;03m    \"\"\"\u001b[39;00m\n\u001b[0;32m     20\u001b[0m     \u001b[38;5;28;01mdef\u001b[39;00m \u001b[38;5;21m__init__\u001b[39m(\n\u001b[0;32m     21\u001b[0m         \u001b[38;5;28mself\u001b[39m,\n\u001b[1;32m---> 22\u001b[0m         query: Union[\u001b[38;5;28mstr\u001b[39m, sa\u001b[38;5;241m.\u001b[39mSelect],\n\u001b[0;32m     23\u001b[0m         db: SQLDatabase,\n\u001b[0;32m     24\u001b[0m         \u001b[38;5;241m*\u001b[39m,\n\u001b[0;32m     25\u001b[0m         parameters: Optional[Dict[\u001b[38;5;28mstr\u001b[39m, Any]] \u001b[38;5;241m=\u001b[39m \u001b[38;5;28;01mNone\u001b[39;00m,\n\u001b[0;32m     26\u001b[0m         page_content_mapper: Optional[Callable[\u001b[38;5;241m.\u001b[39m\u001b[38;5;241m.\u001b[39m\u001b[38;5;241m.\u001b[39m, \u001b[38;5;28mstr\u001b[39m]] \u001b[38;5;241m=\u001b[39m \u001b[38;5;28;01mNone\u001b[39;00m,\n\u001b[0;32m     27\u001b[0m         metadata_mapper: Optional[Callable[\u001b[38;5;241m.\u001b[39m\u001b[38;5;241m.\u001b[39m\u001b[38;5;241m.\u001b[39m, Dict[\u001b[38;5;28mstr\u001b[39m, Any]]] \u001b[38;5;241m=\u001b[39m \u001b[38;5;28;01mNone\u001b[39;00m,\n\u001b[0;32m     28\u001b[0m         source_columns: Optional[Sequence[\u001b[38;5;28mstr\u001b[39m]] \u001b[38;5;241m=\u001b[39m \u001b[38;5;28;01mNone\u001b[39;00m,\n\u001b[0;32m     29\u001b[0m         include_rownum_into_metadata: \u001b[38;5;28mbool\u001b[39m \u001b[38;5;241m=\u001b[39m \u001b[38;5;28;01mFalse\u001b[39;00m,\n\u001b[0;32m     30\u001b[0m         include_query_into_metadata: \u001b[38;5;28mbool\u001b[39m \u001b[38;5;241m=\u001b[39m \u001b[38;5;28;01mFalse\u001b[39;00m,\n\u001b[0;32m     31\u001b[0m     ):\n\u001b[0;32m     32\u001b[0m \u001b[38;5;250m        \u001b[39m\u001b[38;5;124;03m\"\"\"\u001b[39;00m\n\u001b[0;32m     33\u001b[0m \u001b[38;5;124;03m        Args:\u001b[39;00m\n\u001b[0;32m     34\u001b[0m \u001b[38;5;124;03m            query: The query to execute.\u001b[39;00m\n\u001b[1;32m   (...)\u001b[0m\n\u001b[0;32m     49\u001b[0m \u001b[38;5;124;03m              expression into the metadata dictionary. Default: False.\u001b[39;00m\n\u001b[0;32m     50\u001b[0m \u001b[38;5;124;03m        \"\"\"\u001b[39;00m\n\u001b[0;32m     51\u001b[0m         \u001b[38;5;28mself\u001b[39m\u001b[38;5;241m.\u001b[39mquery \u001b[38;5;241m=\u001b[39m query\n",
      "\u001b[1;31mAttributeError\u001b[0m: module 'sqlalchemy' has no attribute 'Select'"
     ]
    }
   ],
   "source": [
    "from langchain_community.document_loaders import TextLoader\n",
    "loader = TextLoader(\"docs/_chat.txt\",encoding='utf8')\n",
    "pages = loader.load()"
   ]
  },
  {
   "cell_type": "code",
   "execution_count": null,
   "metadata": {},
   "outputs": [],
   "source": [
    "len(pages)"
   ]
  },
  {
   "cell_type": "code",
   "execution_count": null,
   "metadata": {},
   "outputs": [],
   "source": [
    "page = pages[0]\n",
    "print(page.page_content[0:100])"
   ]
  },
  {
   "cell_type": "code",
   "execution_count": 5,
   "metadata": {},
   "outputs": [
    {
     "data": {
      "text/plain": [
       "{'source': './payment.pdf', 'page': 0}"
      ]
     },
     "execution_count": 5,
     "metadata": {},
     "output_type": "execute_result"
    }
   ],
   "source": [
    "page.metadata"
   ]
  },
  {
   "cell_type": "code",
   "execution_count": 8,
   "metadata": {},
   "outputs": [],
   "source": [
    "## split based on text\n",
    "from langchain.text_splitter import RecursiveCharacterTextSplitter, CharacterTextSplitter"
   ]
  },
  {
   "cell_type": "code",
   "execution_count": 62,
   "metadata": {},
   "outputs": [],
   "source": [
    "text_splitter = RecursiveCharacterTextSplitter(\n",
    "    chunk_size=20,\n",
    "    chunk_overlap=0, \n",
    "    separators=[\"\\n\\n\", \"\\n\", \" \", \"\"]\n",
    ")"
   ]
  },
  {
   "cell_type": "code",
   "execution_count": 65,
   "metadata": {},
   "outputs": [],
   "source": [
    "docs = text_splitter.split_documents(pages)\n"
   ]
  },
  {
   "cell_type": "code",
   "execution_count": 57,
   "metadata": {},
   "outputs": [
    {
     "data": {
      "text/plain": [
       "34"
      ]
     },
     "execution_count": 57,
     "metadata": {},
     "output_type": "execute_result"
    }
   ],
   "source": [
    "len(docs)"
   ]
  },
  {
   "cell_type": "code",
   "execution_count": 66,
   "metadata": {},
   "outputs": [
    {
     "name": "stdout",
     "output_type": "stream",
     "text": [
      "[Document(page_content='Trillium Montessori', metadata={'source': 'docs/payment.pdf', 'page': 0}), Document(page_content='- Leander', metadata={'source': 'docs/payment.pdf', 'page': 0}), Document(page_content='03/06/2024', metadata={'source': 'docs/payment.pdf', 'page': 0}), Document(page_content='This invoice is', metadata={'source': 'docs/payment.pdf', 'page': 0}), Document(page_content='paid', metadata={'source': 'docs/payment.pdf', 'page': 0}), Document(page_content='Invoice #75167153', metadata={'source': 'docs/payment.pdf', 'page': 0}), Document(page_content='Trillium Montessori', metadata={'source': 'docs/payment.pdf', 'page': 0}), Document(page_content='- Leander', metadata={'source': 'docs/payment.pdf', 'page': 0}), Document(page_content='1699 US183 North', metadata={'source': 'docs/payment.pdf', 'page': 0}), Document(page_content='Leander, TX, 78641', metadata={'source': 'docs/payment.pdf', 'page': 0}), Document(page_content='EIN#:', metadata={'source': 'docs/payment.pdf', 'page': 0}), Document(page_content='462166700Adhvaith', metadata={'source': 'docs/payment.pdf', 'page': 0}), Document(page_content='Rajesh', metadata={'source': 'docs/payment.pdf', 'page': 0}), Document(page_content='Invoice date', metadata={'source': 'docs/payment.pdf', 'page': 0}), Document(page_content='9/1/2023', metadata={'source': 'docs/payment.pdf', 'page': 0}), Document(page_content='Dates of service', metadata={'source': 'docs/payment.pdf', 'page': 0}), Document(page_content='9/1/2023 -', metadata={'source': 'docs/payment.pdf', 'page': 0}), Document(page_content='9/30/2023', metadata={'source': 'docs/payment.pdf', 'page': 0}), Document(page_content='Assigned payer', metadata={'source': 'docs/payment.pdf', 'page': 0}), Document(page_content='Rajesh Govindarajan', metadata={'source': 'docs/payment.pdf', 'page': 0}), Document(page_content='Due date 9/2/2023', metadata={'source': 'docs/payment.pdf', 'page': 0}), Document(page_content='Current amount due', metadata={'source': 'docs/payment.pdf', 'page': 0}), Document(page_content='$0.00', metadata={'source': 'docs/payment.pdf', 'page': 0}), Document(page_content='Charges & payments', metadata={'source': 'docs/payment.pdf', 'page': 0}), Document(page_content='Type Description', metadata={'source': 'docs/payment.pdf', 'page': 0}), Document(page_content='Notes Amount', metadata={'source': 'docs/payment.pdf', 'page': 0}), Document(page_content='Charge: Tuition', metadata={'source': 'docs/payment.pdf', 'page': 0}), Document(page_content='Toddler part time', metadata={'source': 'docs/payment.pdf', 'page': 0}), Document(page_content='$975.00', metadata={'source': 'docs/payment.pdf', 'page': 0}), Document(page_content='Payment: JPMORGAN', metadata={'source': 'docs/payment.pdf', 'page': 0}), Document(page_content='CHASE', metadata={'source': 'docs/payment.pdf', 'page': 0}), Document(page_content='BANK, NA 7208', metadata={'source': 'docs/payment.pdf', 'page': 0}), Document(page_content='Processing fee:', metadata={'source': 'docs/payment.pdf', 'page': 0}), Document(page_content='$0.60', metadata={'source': 'docs/payment.pdf', 'page': 0}), Document(page_content='(on total payment', metadata={'source': 'docs/payment.pdf', 'page': 0}), Document(page_content='of $975.00)Rajesh', metadata={'source': 'docs/payment.pdf', 'page': 0}), Document(page_content='Govindarajan', metadata={'source': 'docs/payment.pdf', 'page': 0}), Document(page_content='on 9/6/2023-$975.00', metadata={'source': 'docs/payment.pdf', 'page': 0}), Document(page_content='Total paid amount', metadata={'source': 'docs/payment.pdf', 'page': 0}), Document(page_content='Current amount', metadata={'source': 'docs/payment.pdf', 'page': 0}), Document(page_content='due$975.00', metadata={'source': 'docs/payment.pdf', 'page': 0}), Document(page_content='$0.00\\nNotes', metadata={'source': 'docs/payment.pdf', 'page': 0})]\n"
     ]
    }
   ],
   "source": [
    "print(docs)"
   ]
  }
 ],
 "metadata": {
  "kernelspec": {
   "display_name": "Python 3",
   "language": "python",
   "name": "python3"
  },
  "language_info": {
   "codemirror_mode": {
    "name": "ipython",
    "version": 3
   },
   "file_extension": ".py",
   "mimetype": "text/x-python",
   "name": "python",
   "nbconvert_exporter": "python",
   "pygments_lexer": "ipython3",
   "version": "3.11.5"
  }
 },
 "nbformat": 4,
 "nbformat_minor": 2
}
