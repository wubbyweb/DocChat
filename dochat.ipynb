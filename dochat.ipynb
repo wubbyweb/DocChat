{
 "cells": [
  {
   "cell_type": "code",
   "execution_count": 1,
   "metadata": {},
   "outputs": [],
   "source": [
    "import os\n",
    "import openai\n",
    "import sys\n",
    "sys.path.append('../..')\n",
    "\n",
    "from dotenv import load_dotenv, find_dotenv\n",
    "_ = load_dotenv(find_dotenv()) # read local .env file\n",
    "\n",
    "load_dotenv()\n",
    "\n",
    "openai.api_key  = os.getenv(\"OPENAI_API_KEY\")"
   ]
  },
  {
   "cell_type": "code",
   "execution_count": 6,
   "metadata": {},
   "outputs": [],
   "source": [
    "from langchain.document_loaders import PyPDFLoader\n",
    "loader = PyPDFLoader(\"docs/payment.pdf\")\n",
    "pages = loader.load()"
   ]
  },
  {
   "cell_type": "code",
   "execution_count": 7,
   "metadata": {},
   "outputs": [],
   "source": [
    "from langchain_community.document_loaders import TextLoader\n",
    "loader = TextLoader(\"docs/_chat.txt\",encoding='utf8')\n",
    "pages = loader.load()"
   ]
  },
  {
   "cell_type": "code",
   "execution_count": null,
   "metadata": {},
   "outputs": [],
   "source": [
    "page = pages[0]\n",
    "print(page.page_content[0:100])"
   ]
  },
  {
   "cell_type": "code",
   "execution_count": 2,
   "metadata": {},
   "outputs": [],
   "source": [
    "## split based on text\n",
    "from langchain.text_splitter import RecursiveCharacterTextSplitter, CharacterTextSplitter"
   ]
  },
  {
   "cell_type": "code",
   "execution_count": 3,
   "metadata": {},
   "outputs": [],
   "source": [
    "text_splitter = RecursiveCharacterTextSplitter(\n",
    "    chunk_size=1500,\n",
    "    chunk_overlap=150, \n",
    "    separators=[\"\\n\\n\", \"\\n\", \" \"]\n",
    ")"
   ]
  },
  {
   "cell_type": "code",
   "execution_count": 10,
   "metadata": {},
   "outputs": [],
   "source": [
    "docs = text_splitter.split_documents(pages)\n"
   ]
  },
  {
   "cell_type": "code",
   "execution_count": 11,
   "metadata": {},
   "outputs": [
    {
     "data": {
      "text/plain": [
       "2831"
      ]
     },
     "execution_count": 11,
     "metadata": {},
     "output_type": "execute_result"
    }
   ],
   "source": [
    "len(docs)"
   ]
  },
  {
   "cell_type": "code",
   "execution_count": 4,
   "metadata": {},
   "outputs": [
    {
     "name": "stderr",
     "output_type": "stream",
     "text": [
      "c:\\Users\\Raj\\anaconda3\\Lib\\site-packages\\langchain_core\\_api\\deprecation.py:117: LangChainDeprecationWarning: The class `langchain_community.embeddings.openai.OpenAIEmbeddings` was deprecated in langchain-community 0.0.9 and will be removed in 0.2.0. An updated version of the class exists in the langchain-openai package and should be used instead. To use it run `pip install -U langchain-openai` and import as `from langchain_openai import OpenAIEmbeddings`.\n",
      "  warn_deprecated(\n"
     ]
    }
   ],
   "source": [
    "from langchain.vectorstores import Chroma\n",
    "persist_directory = 'docs/chroma/'\n",
    "\n",
    "from langchain.embeddings.openai import OpenAIEmbeddings\n",
    "embedding = OpenAIEmbeddings()"
   ]
  },
  {
   "cell_type": "code",
   "execution_count": 5,
   "metadata": {},
   "outputs": [
    {
     "ename": "NameError",
     "evalue": "name 'docs' is not defined",
     "output_type": "error",
     "traceback": [
      "\u001b[1;31m---------------------------------------------------------------------------\u001b[0m",
      "\u001b[1;31mNameError\u001b[0m                                 Traceback (most recent call last)",
      "Cell \u001b[1;32mIn[5], line 2\u001b[0m\n\u001b[0;32m      1\u001b[0m vectordb \u001b[38;5;241m=\u001b[39m Chroma\u001b[38;5;241m.\u001b[39mfrom_documents(\n\u001b[1;32m----> 2\u001b[0m     documents\u001b[38;5;241m=\u001b[39mdocs,\n\u001b[0;32m      3\u001b[0m     embedding\u001b[38;5;241m=\u001b[39membedding,\n\u001b[0;32m      4\u001b[0m     persist_directory\u001b[38;5;241m=\u001b[39mpersist_directory\n\u001b[0;32m      5\u001b[0m )\n",
      "\u001b[1;31mNameError\u001b[0m: name 'docs' is not defined"
     ]
    }
   ],
   "source": [
    "vectordb = Chroma.from_documents(\n",
    "    documents=docs,\n",
    "    embedding=embedding,\n",
    "    persist_directory=persist_directory\n",
    ")"
   ]
  },
  {
   "cell_type": "code",
   "execution_count": 15,
   "metadata": {},
   "outputs": [
    {
     "name": "stdout",
     "output_type": "stream",
     "text": [
      "2831\n"
     ]
    }
   ],
   "source": [
    "print(vectordb._collection.count())"
   ]
  },
  {
   "cell_type": "code",
   "execution_count": 23,
   "metadata": {},
   "outputs": [],
   "source": [
    "vectordb.persist()"
   ]
  },
  {
   "cell_type": "code",
   "execution_count": 6,
   "metadata": {},
   "outputs": [],
   "source": [
    "## Reterival \n",
    "\n",
    "embedding = OpenAIEmbeddings()\n",
    "vectordb = Chroma(\n",
    "    persist_directory=persist_directory,\n",
    "    embedding_function=embedding\n",
    ")"
   ]
  },
  {
   "cell_type": "code",
   "execution_count": 7,
   "metadata": {},
   "outputs": [
    {
     "name": "stdout",
     "output_type": "stream",
     "text": [
      "2831\n"
     ]
    }
   ],
   "source": [
    "print(vectordb._collection.count())"
   ]
  },
  {
   "cell_type": "code",
   "execution_count": 8,
   "metadata": {},
   "outputs": [],
   "source": [
    "question = \"TSLA\""
   ]
  },
  {
   "cell_type": "code",
   "execution_count": 9,
   "metadata": {},
   "outputs": [],
   "source": [
    "ans_docs = vectordb.similarity_search(\n",
    "    question,\n",
    "    k=4)"
   ]
  },
  {
   "cell_type": "code",
   "execution_count": 10,
   "metadata": {},
   "outputs": [
    {
     "name": "stdout",
     "output_type": "stream",
     "text": [
      "Tesla has already made $2.51 billion this year despite super hurtful macro and China issues. Their Cybertruck coming later this year or next will be new stream of revenue.  And he thinks AV is 5 years away. Musk is big enabler here. If I had to pick top 20 best Gen Z focused companies (Shaq is asking will that make a difference in peoples lives?) - Tesla will be in top 3.  California and many states are already annoucing EV mandates.\n",
      "‎[5/7/23, 7:51:26 PM] Nimish Pathak Austin: ‎image omitted\n",
      "[5/7/23, 7:53:47 PM] Nimish Pathak Austin: Big 3 is losing huge money right now and by the time they become profitable, Tesla Robotaxis will take over Uber market. My 2 cents.  Commercial trucks on AV path. Massive revolution.\n",
      "[5/7/23, 7:54:47 PM] ~ Rajanikanth Kovvuri: If I were to invest, I would focus on the enablers for these guys. I mean charging station manufacturers\n",
      "[5/7/23, 7:55:18 PM] Nimish Pathak Austin: Yes that too.\n",
      "[5/7/23, 7:58:14 PM] Nimish Pathak Austin: April CBS Interview \n",
      "Rose asked Buffett about Musk, noting Tesla's market value compared to competitors, and Buffett responded with the following:\n",
      "\n",
      "\"That shows what America produces. I mean, Elon, didn't--he's taking on General Motors, Ford, Toyota, all these people who've got all the stuff, and he's got an idea. And he's winning. That's America. You can't dream it up. It's astounding,\" Buffett said.\n",
      "Tesla should increase production. Funny they want to set up an EV plant in Saudi Arabia right next to oil rigs 😂. That's like Vegetarians going to a steak house.\n",
      "[9/19/23, 7:23:05 AM] ~ Rajanikanth Kovvuri: Tesla seriously need a competition from real quality production car manufacturers. Koreans are fast catching up. If you see Kia electric car you will know what I mean. Audi and bmw are great but their batteries and tech support are no match for Tesla. Saw a couple of lucids in Austin. Yet to catch up. Tesla seems too boring for ME. No umpf 😁\n",
      "[9/19/23, 7:24:59 AM] ~ Jitin: It's a classic conundrum we're witnessing in the mkts today, 5 of 10 technical indicators pointing towards a downward breakout of S&P and all fundamentalists saying newer ATH... \n",
      "End of September could turn out to be an Inflection point... let's see... interesting moves ahead for sure...\n",
      "[9/19/23, 7:47:04 AM] ~ Prashant Jai: Meanwhile: Tesla is setting 15B USD Gigafactory in Mexico\n",
      "‎[9/19/23, 9:40:03 PM] Nimish Pathak Austin: ‎image omitted\n",
      "‎[9/19/23, 9:42:29 PM] Nimish Pathak Austin: ‎image omitted\n",
      "[9/19/23, 9:49:57 PM] ~ Rajanikanth Kovvuri: Companies are not done laying off. Happening still but quietly\n",
      "Just think of 1 🥃 good for your brain; beyond 1 is not recommended.\n",
      "[10/10/22, 11:59:22 AM] Nimish Pathak Austin: Expectations or future growth numbers are relayed in earning calls (forward guidance).\n",
      "‎[10/10/22, 12:02:58 PM] Nimish Pathak Austin: ‎image omitted\n",
      "‎[10/10/22, 12:03:01 PM] Nimish Pathak Austin: ‎image omitted\n",
      "[10/10/22, 12:24:27 PM] ~ Piyush Dave: But with 80 PE Tesla is not less than 1 PEG (5 years)\n",
      "[10/10/22, 12:30:10 PM] ~ Kunal Taneja: Nimish bhai - Msft has a track record of massive profits\n",
      "[10/10/22, 12:30:26 PM] ~ Kunal Taneja: Tesla has not and other car companies are catching up\n",
      "[10/10/22, 12:30:56 PM] ~ Kunal Taneja: I have always wanted to invest in Tesla but wondering if it is the right call\n",
      "[10/10/22, 12:31:28 PM] ~ Kunal Taneja: Wanted to get inputs from this group on how to think about this\n",
      "[10/10/22, 12:35:15 PM] ~ Abhijit: I have always been bearish on Tesla. I feel in next 2-4 years many other companiea will catchup with the EV trend (ford and gm already are ahead with their trucks). I have not invested in Tesla. I could br totally wrong but just sharing my opinion.\n",
      "[10/10/22, 12:46:05 PM] Nimish Pathak Austin: My thoughts \n",
      "Majority of Gen Z dream about Tesla these days.  They never heard glorious stories on Big 3 (GM, Ford, Daimler). They are more attracted to Germans and Japanese cars too.  Tesla has a great innovative leader.  Whether it is extremely overvalued or not - is a debate.\n",
      "[10/20/23, 3:22:59 PM] ~ Pruthvish Shah: #skip 30\n",
      "[10/20/23, 3:32:45 PM] ~ Pruthvish Shah: What this means is - In long term EVs and TSLA will prevail but there will be many stock price/market somersaults between now and then.\n",
      "[10/20/23, 3:47:34 PM] ~ Cherag: Real question is what will be the fate of NVDA? :(\n",
      "[10/20/23, 3:47:58 PM] ~ Cherag: Hope it doesn’t turn out to be another ZOOM for me!\n",
      "[10/20/23, 6:12:14 PM] ~ Vipul: Or a docusign 🙄\n",
      "[10/20/23, 7:38:58 PM] ~ Jitin: https://finance.yahoo.com/news/gold-is-approaching-all-time-highs-but-its-not-the-time-to-buy-strategist-says-192731810.html\n"
     ]
    }
   ],
   "source": [
    "for _doc in ans_docs:\n",
    "    print(_doc.page_content)"
   ]
  }
 ],
 "metadata": {
  "kernelspec": {
   "display_name": "Python 3",
   "language": "python",
   "name": "python3"
  },
  "language_info": {
   "codemirror_mode": {
    "name": "ipython",
    "version": 3
   },
   "file_extension": ".py",
   "mimetype": "text/x-python",
   "name": "python",
   "nbconvert_exporter": "python",
   "pygments_lexer": "ipython3",
   "version": "3.11.5"
  }
 },
 "nbformat": 4,
 "nbformat_minor": 2
}
